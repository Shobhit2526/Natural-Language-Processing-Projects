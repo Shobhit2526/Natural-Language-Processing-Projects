{
 "cells": [
  {
   "cell_type": "code",
   "execution_count": 1,
   "metadata": {},
   "outputs": [],
   "source": [
    "import spacy\n",
    "from spacy.matcher import Matcher\n",
    "from spacy.tokens import Span\n",
    "from spacy import displacy"
   ]
  },
  {
   "cell_type": "code",
   "execution_count": 2,
   "metadata": {},
   "outputs": [],
   "source": [
    "nlp = spacy.load('en_core_web_sm')"
   ]
  },
  {
   "cell_type": "code",
   "execution_count": 11,
   "metadata": {},
   "outputs": [],
   "source": [
    "from spacy.lang.en.stop_words import STOP_WORDS"
   ]
  },
  {
   "cell_type": "code",
   "execution_count": 12,
   "metadata": {},
   "outputs": [],
   "source": [
    "stopwords = list(STOP_WORDS)"
   ]
  },
  {
   "cell_type": "code",
   "execution_count": 13,
   "metadata": {},
   "outputs": [
    {
     "data": {
      "text/plain": [
       "['same',\n",
       " 'must',\n",
       " 'how',\n",
       " 'most',\n",
       " 'between',\n",
       " 'from',\n",
       " 'along',\n",
       " 'otherwise',\n",
       " 'where',\n",
       " 'much',\n",
       " 'mostly',\n",
       " 'this',\n",
       " 'though',\n",
       " 'somehow',\n",
       " 'never',\n",
       " 'nothing',\n",
       " \"'ll\",\n",
       " 'regarding',\n",
       " 'over',\n",
       " 'often',\n",
       " 'whereas',\n",
       " 'else',\n",
       " 'am',\n",
       " 'than',\n",
       " 'everything',\n",
       " 'every',\n",
       " 'unless',\n",
       " 'does',\n",
       " 'himself',\n",
       " 'someone',\n",
       " 'whereby',\n",
       " 'hundred',\n",
       " 'herein',\n",
       " 'during',\n",
       " 'it',\n",
       " 'among',\n",
       " 'might',\n",
       " 'becomes',\n",
       " 'nowhere',\n",
       " 'across',\n",
       " 'various',\n",
       " 'their',\n",
       " 'ca',\n",
       " 'around',\n",
       " 'whom',\n",
       " 'yet',\n",
       " 'an',\n",
       " 'hereby',\n",
       " 'fifty',\n",
       " 'thus',\n",
       " 'ten',\n",
       " 'moreover',\n",
       " 'his',\n",
       " 'not',\n",
       " 'since',\n",
       " 'became',\n",
       " 'further',\n",
       " 'whatever',\n",
       " 'next',\n",
       " 'two',\n",
       " 'before',\n",
       " 'rather',\n",
       " 'about',\n",
       " 'us',\n",
       " 'and',\n",
       " 'above',\n",
       " '‘ll',\n",
       " 'done',\n",
       " 'whoever',\n",
       " 'if',\n",
       " 'without',\n",
       " 'are',\n",
       " 'call',\n",
       " 'into',\n",
       " 'always',\n",
       " 'enough',\n",
       " 'those',\n",
       " '’m',\n",
       " 'whose',\n",
       " 'has',\n",
       " 'get',\n",
       " 'we',\n",
       " 'n‘t',\n",
       " 'eight',\n",
       " 'such',\n",
       " 'as',\n",
       " 'nine',\n",
       " 'ours',\n",
       " 'at',\n",
       " 'one',\n",
       " 'twenty',\n",
       " 'off',\n",
       " 'had',\n",
       " 'say',\n",
       " 'even',\n",
       " 'move',\n",
       " 'itself',\n",
       " 'although',\n",
       " 'beside',\n",
       " 'show',\n",
       " 'whether',\n",
       " 'whither',\n",
       " 'least',\n",
       " 'be',\n",
       " 'there',\n",
       " 'within',\n",
       " 'but',\n",
       " 'been',\n",
       " 'these',\n",
       " 'fifteen',\n",
       " 'none',\n",
       " 'top',\n",
       " 'put',\n",
       " 'others',\n",
       " 'throughout',\n",
       " 'neither',\n",
       " 'beforehand',\n",
       " 'myself',\n",
       " 'of',\n",
       " 'whenever',\n",
       " 'nevertheless',\n",
       " 'upon',\n",
       " 'could',\n",
       " 'twelve',\n",
       " 'take',\n",
       " 'latterly',\n",
       " 'me',\n",
       " 'mine',\n",
       " 'other',\n",
       " 'they',\n",
       " 'via',\n",
       " 'using',\n",
       " 'against',\n",
       " '’ll',\n",
       " 'just',\n",
       " 'down',\n",
       " 'becoming',\n",
       " '‘s',\n",
       " 'your',\n",
       " 'can',\n",
       " 'amount',\n",
       " 'any',\n",
       " 'front',\n",
       " 'something',\n",
       " 'yours',\n",
       " 'third',\n",
       " \"'re\",\n",
       " 'do',\n",
       " 'meanwhile',\n",
       " 'perhaps',\n",
       " 're',\n",
       " 'while',\n",
       " 'last',\n",
       " 'with',\n",
       " 'anything',\n",
       " 'here',\n",
       " '’re',\n",
       " \"n't\",\n",
       " 'her',\n",
       " 'side',\n",
       " 'former',\n",
       " 'wherever',\n",
       " 'bottom',\n",
       " 'so',\n",
       " '‘re',\n",
       " 'seems',\n",
       " 'she',\n",
       " 'would',\n",
       " 'used',\n",
       " 'latter',\n",
       " '‘m',\n",
       " 'nor',\n",
       " '’s',\n",
       " '’ve',\n",
       " 'because',\n",
       " 'seemed',\n",
       " 'he',\n",
       " 'thereupon',\n",
       " 'hereafter',\n",
       " 'due',\n",
       " 'thereby',\n",
       " 'made',\n",
       " 'per',\n",
       " 'up',\n",
       " 'after',\n",
       " 'both',\n",
       " 'make',\n",
       " 'onto',\n",
       " \"'d\",\n",
       " 'did',\n",
       " 'beyond',\n",
       " 'five',\n",
       " 'hence',\n",
       " 'doing',\n",
       " 'thereafter',\n",
       " 'sixty',\n",
       " 'sometime',\n",
       " 'towards',\n",
       " 'on',\n",
       " 'keep',\n",
       " 'whereafter',\n",
       " 'either',\n",
       " 'forty',\n",
       " 'them',\n",
       " 'what',\n",
       " 'cannot',\n",
       " 'well',\n",
       " 'more',\n",
       " 'n’t',\n",
       " 'whole',\n",
       " 'to',\n",
       " 'until',\n",
       " 'thru',\n",
       " 'some',\n",
       " 'really',\n",
       " 'why',\n",
       " 'when',\n",
       " 'nobody',\n",
       " 'the',\n",
       " 'three',\n",
       " 'now',\n",
       " 'besides',\n",
       " 'empty',\n",
       " 'yourselves',\n",
       " 'amongst',\n",
       " 'own',\n",
       " 'no',\n",
       " 'is',\n",
       " 'who',\n",
       " 'each',\n",
       " 'everyone',\n",
       " 'may',\n",
       " 'ourselves',\n",
       " 'again',\n",
       " 'go',\n",
       " 'anyone',\n",
       " \"'m\",\n",
       " 'will',\n",
       " 'namely',\n",
       " 'or',\n",
       " 'whence',\n",
       " 'below',\n",
       " 'only',\n",
       " 'being',\n",
       " 'ever',\n",
       " 'anyway',\n",
       " 'serious',\n",
       " 'afterwards',\n",
       " 'in',\n",
       " 'through',\n",
       " 'noone',\n",
       " 'however',\n",
       " 'once',\n",
       " 'anyhow',\n",
       " 'should',\n",
       " 'eleven',\n",
       " 'sometimes',\n",
       " 'four',\n",
       " 'our',\n",
       " 'hers',\n",
       " '’d',\n",
       " 'which',\n",
       " 'first',\n",
       " 'together',\n",
       " '‘d',\n",
       " 'somewhere',\n",
       " 'back',\n",
       " 'you',\n",
       " 'become',\n",
       " 'thence',\n",
       " 'very',\n",
       " 'anywhere',\n",
       " 'see',\n",
       " 'then',\n",
       " '‘ve',\n",
       " 'full',\n",
       " 'also',\n",
       " 'less',\n",
       " 'several',\n",
       " 'formerly',\n",
       " 'alone',\n",
       " 'almost',\n",
       " 'please',\n",
       " 'its',\n",
       " 'many',\n",
       " 'under',\n",
       " 'a',\n",
       " \"'s\",\n",
       " 'few',\n",
       " 'wherein',\n",
       " 'my',\n",
       " 'another',\n",
       " 'herself',\n",
       " 'except',\n",
       " 'quite',\n",
       " 'for',\n",
       " 'by',\n",
       " 'that',\n",
       " 'seem',\n",
       " 'give',\n",
       " 'whereupon',\n",
       " 'still',\n",
       " 'was',\n",
       " 'yourself',\n",
       " 'therein',\n",
       " 'behind',\n",
       " 'out',\n",
       " 'part',\n",
       " 'hereupon',\n",
       " 'everywhere',\n",
       " 'toward',\n",
       " 'too',\n",
       " 'him',\n",
       " \"'ve\",\n",
       " 'have',\n",
       " 'elsewhere',\n",
       " 'already',\n",
       " 'indeed',\n",
       " 'i',\n",
       " 'seeming',\n",
       " 'therefore',\n",
       " 'were',\n",
       " 'themselves',\n",
       " 'six',\n",
       " 'all',\n",
       " 'name']"
      ]
     },
     "execution_count": 13,
     "metadata": {},
     "output_type": "execute_result"
    }
   ],
   "source": [
    "stopwords"
   ]
  },
  {
   "cell_type": "code",
   "execution_count": 14,
   "metadata": {},
   "outputs": [
    {
     "data": {
      "text/plain": [
       "326"
      ]
     },
     "execution_count": 14,
     "metadata": {},
     "output_type": "execute_result"
    }
   ],
   "source": [
    "len(stopwords)"
   ]
  },
  {
   "cell_type": "code",
   "execution_count": 16,
   "metadata": {},
   "outputs": [],
   "source": [
    "import pandas as pd\n",
    "from sklearn.feature_extraction.text import TfidfVectorizer\n",
    "from sklearn.pipeline import Pipeline\n",
    "from sklearn.model_selection import train_test_split\n",
    "from sklearn.metrics import accuracy_score,classification_report,confusion_matrix"
   ]
  },
  {
   "cell_type": "code",
   "execution_count": 17,
   "metadata": {},
   "outputs": [],
   "source": [
    "data = pd.read_csv('IMDB Dataset.csv',header = None)"
   ]
  },
  {
   "cell_type": "code",
   "execution_count": 18,
   "metadata": {},
   "outputs": [
    {
     "data": {
      "text/plain": [
       "Int64Index([0, 1], dtype='int64')"
      ]
     },
     "execution_count": 18,
     "metadata": {},
     "output_type": "execute_result"
    }
   ],
   "source": [
    "data.columns"
   ]
  },
  {
   "cell_type": "code",
   "execution_count": 19,
   "metadata": {},
   "outputs": [
    {
     "data": {
      "text/html": [
       "<div>\n",
       "<style scoped>\n",
       "    .dataframe tbody tr th:only-of-type {\n",
       "        vertical-align: middle;\n",
       "    }\n",
       "\n",
       "    .dataframe tbody tr th {\n",
       "        vertical-align: top;\n",
       "    }\n",
       "\n",
       "    .dataframe thead th {\n",
       "        text-align: right;\n",
       "    }\n",
       "</style>\n",
       "<table border=\"1\" class=\"dataframe\">\n",
       "  <thead>\n",
       "    <tr style=\"text-align: right;\">\n",
       "      <th></th>\n",
       "      <th>Review</th>\n",
       "      <th>Sentiment</th>\n",
       "    </tr>\n",
       "  </thead>\n",
       "  <tbody>\n",
       "    <tr>\n",
       "      <th>0</th>\n",
       "      <td>One of the other reviewers has mentioned that ...</td>\n",
       "      <td>positive</td>\n",
       "    </tr>\n",
       "    <tr>\n",
       "      <th>1</th>\n",
       "      <td>A wonderful little production. &lt;br /&gt;&lt;br /&gt;The...</td>\n",
       "      <td>positive</td>\n",
       "    </tr>\n",
       "    <tr>\n",
       "      <th>2</th>\n",
       "      <td>I thought this was a wonderful way to spend ti...</td>\n",
       "      <td>positive</td>\n",
       "    </tr>\n",
       "    <tr>\n",
       "      <th>3</th>\n",
       "      <td>Basically there's a family where a little boy ...</td>\n",
       "      <td>negative</td>\n",
       "    </tr>\n",
       "    <tr>\n",
       "      <th>4</th>\n",
       "      <td>Petter Mattei's \"Love in the Time of Money\" is...</td>\n",
       "      <td>positive</td>\n",
       "    </tr>\n",
       "  </tbody>\n",
       "</table>\n",
       "</div>"
      ],
      "text/plain": [
       "                                              Review Sentiment\n",
       "0  One of the other reviewers has mentioned that ...  positive\n",
       "1  A wonderful little production. <br /><br />The...  positive\n",
       "2  I thought this was a wonderful way to spend ti...  positive\n",
       "3  Basically there's a family where a little boy ...  negative\n",
       "4  Petter Mattei's \"Love in the Time of Money\" is...  positive"
      ]
     },
     "execution_count": 19,
     "metadata": {},
     "output_type": "execute_result"
    }
   ],
   "source": [
    "column_names = ['Review','Sentiment']\n",
    "data.columns = column_names\n",
    "data.head()"
   ]
  },
  {
   "cell_type": "code",
   "execution_count": 20,
   "metadata": {},
   "outputs": [
    {
     "data": {
      "text/plain": [
       "(50000, 2)"
      ]
     },
     "execution_count": 20,
     "metadata": {},
     "output_type": "execute_result"
    }
   ],
   "source": [
    "data.shape"
   ]
  },
  {
   "cell_type": "code",
   "execution_count": 21,
   "metadata": {},
   "outputs": [
    {
     "data": {
      "text/plain": [
       "negative    25000\n",
       "positive    25000\n",
       "Name: Sentiment, dtype: int64"
      ]
     },
     "execution_count": 21,
     "metadata": {},
     "output_type": "execute_result"
    }
   ],
   "source": [
    "data['Sentiment'].value_counts()"
   ]
  },
  {
   "cell_type": "code",
   "execution_count": 22,
   "metadata": {},
   "outputs": [
    {
     "data": {
      "text/plain": [
       "Review       0\n",
       "Sentiment    0\n",
       "dtype: int64"
      ]
     },
     "execution_count": 22,
     "metadata": {},
     "output_type": "execute_result"
    }
   ],
   "source": [
    "data.isnull().sum()"
   ]
  },
  {
   "cell_type": "code",
   "execution_count": 23,
   "metadata": {},
   "outputs": [],
   "source": [
    "#Tokenization"
   ]
  },
  {
   "cell_type": "code",
   "execution_count": 24,
   "metadata": {},
   "outputs": [],
   "source": [
    "import string"
   ]
  },
  {
   "cell_type": "code",
   "execution_count": 25,
   "metadata": {},
   "outputs": [],
   "source": [
    "punc = string.punctuation"
   ]
  },
  {
   "cell_type": "code",
   "execution_count": 26,
   "metadata": {},
   "outputs": [
    {
     "data": {
      "text/plain": [
       "'!\"#$%&\\'()*+,-./:;<=>?@[\\\\]^_`{|}~'"
      ]
     },
     "execution_count": 26,
     "metadata": {},
     "output_type": "execute_result"
    }
   ],
   "source": [
    "punc"
   ]
  },
  {
   "cell_type": "code",
   "execution_count": 27,
   "metadata": {},
   "outputs": [],
   "source": [
    "def text_data_cleaning(sentence):\n",
    "    doc = nlp(sentence)\n",
    "    tokens = []\n",
    "    for token in doc:\n",
    "        if token.lemma_ != \"-PRON-\":\n",
    "            temp = token.lemma_.lower() .strip()\n",
    "        else:\n",
    "            temp = token.lower_\n",
    "        tokens.append(temp)\n",
    "    cleaned_tokens = []\n",
    "    for token in tokens:\n",
    "        if token not in stopwords and token not in punc:\n",
    "            cleaned_tokens.append(token)\n",
    "    return cleaned_tokens"
   ]
  },
  {
   "cell_type": "code",
   "execution_count": 28,
   "metadata": {},
   "outputs": [],
   "source": [
    "from sklearn.svm import LinearSVC"
   ]
  },
  {
   "cell_type": "code",
   "execution_count": 29,
   "metadata": {},
   "outputs": [],
   "source": [
    "#Vectorization and Classification\n",
    "tfidf = TfidfVectorizer(tokenizer=text_data_cleaning)\n",
    "classifier = LinearSVC()"
   ]
  },
  {
   "cell_type": "code",
   "execution_count": 30,
   "metadata": {},
   "outputs": [],
   "source": [
    "X = data['Review']\n",
    "y = data['Sentiment']"
   ]
  },
  {
   "cell_type": "code",
   "execution_count": 31,
   "metadata": {},
   "outputs": [],
   "source": [
    "X_train, X_test, y_train, y_test = train_test_split(X,y,test_size = 0.2, random_state = 42)"
   ]
  },
  {
   "cell_type": "code",
   "execution_count": 32,
   "metadata": {},
   "outputs": [
    {
     "data": {
      "text/plain": [
       "((40000,), (10000,))"
      ]
     },
     "execution_count": 32,
     "metadata": {},
     "output_type": "execute_result"
    }
   ],
   "source": [
    "X_train.shape,X_test.shape"
   ]
  },
  {
   "cell_type": "code",
   "execution_count": 33,
   "metadata": {},
   "outputs": [],
   "source": [
    "clf = Pipeline([('tfidf',tfidf),('clf',classifier)])"
   ]
  },
  {
   "cell_type": "code",
   "execution_count": 34,
   "metadata": {},
   "outputs": [
    {
     "data": {
      "text/plain": [
       "Pipeline(memory=None,\n",
       "         steps=[('tfidf',\n",
       "                 TfidfVectorizer(analyzer='word', binary=False,\n",
       "                                 decode_error='strict',\n",
       "                                 dtype=<class 'numpy.float64'>,\n",
       "                                 encoding='utf-8', input='content',\n",
       "                                 lowercase=True, max_df=1.0, max_features=None,\n",
       "                                 min_df=1, ngram_range=(1, 1), norm='l2',\n",
       "                                 preprocessor=None, smooth_idf=True,\n",
       "                                 stop_words=None, strip_accents=None,\n",
       "                                 sublinear_tf=False,\n",
       "                                 token_pattern='(?u)\\\\b\\\\w\\\\w+\\\\b',\n",
       "                                 tokenizer=<function text_data_cleaning at 0x0000019A077A0F78>,\n",
       "                                 use_idf=True, vocabulary=None)),\n",
       "                ('clf',\n",
       "                 LinearSVC(C=1.0, class_weight=None, dual=True,\n",
       "                           fit_intercept=True, intercept_scaling=1,\n",
       "                           loss='squared_hinge', max_iter=1000,\n",
       "                           multi_class='ovr', penalty='l2', random_state=None,\n",
       "                           tol=0.0001, verbose=0))],\n",
       "         verbose=False)"
      ]
     },
     "execution_count": 34,
     "metadata": {},
     "output_type": "execute_result"
    }
   ],
   "source": [
    "clf.fit(X_train, y_train)"
   ]
  },
  {
   "cell_type": "code",
   "execution_count": 35,
   "metadata": {},
   "outputs": [],
   "source": [
    "y_pred = clf.predict(X_test)"
   ]
  },
  {
   "cell_type": "code",
   "execution_count": 37,
   "metadata": {},
   "outputs": [
    {
     "name": "stdout",
     "output_type": "stream",
     "text": [
      "              precision    recall  f1-score   support\n",
      "\n",
      "    negative       0.90      0.88      0.89      4961\n",
      "    positive       0.89      0.90      0.89      5039\n",
      "\n",
      "    accuracy                           0.89     10000\n",
      "   macro avg       0.89      0.89      0.89     10000\n",
      "weighted avg       0.89      0.89      0.89     10000\n",
      "\n"
     ]
    }
   ],
   "source": [
    "print(classification_report(y_test,y_pred))"
   ]
  },
  {
   "cell_type": "code",
   "execution_count": 38,
   "metadata": {},
   "outputs": [
    {
     "data": {
      "text/plain": [
       "array([[4381,  580],\n",
       "       [ 490, 4549]], dtype=int64)"
      ]
     },
     "execution_count": 38,
     "metadata": {},
     "output_type": "execute_result"
    }
   ],
   "source": [
    "confusion_matrix(y_test,y_pred)"
   ]
  },
  {
   "cell_type": "code",
   "execution_count": 39,
   "metadata": {},
   "outputs": [
    {
     "data": {
      "text/plain": [
       "array(['negative'], dtype=object)"
      ]
     },
     "execution_count": 39,
     "metadata": {},
     "output_type": "execute_result"
    }
   ],
   "source": [
    "clf.predict([\"Wow,this sucks\"])"
   ]
  },
  {
   "cell_type": "code",
   "execution_count": 40,
   "metadata": {},
   "outputs": [
    {
     "data": {
      "text/plain": [
       "array(['positive'], dtype=object)"
      ]
     },
     "execution_count": 40,
     "metadata": {},
     "output_type": "execute_result"
    }
   ],
   "source": [
    "clf.predict([\"Awesome movie\"])"
   ]
  },
  {
   "cell_type": "code",
   "execution_count": 42,
   "metadata": {},
   "outputs": [
    {
     "data": {
      "text/plain": [
       "array(['positive'], dtype=object)"
      ]
     },
     "execution_count": 42,
     "metadata": {},
     "output_type": "execute_result"
    }
   ],
   "source": [
    "clf.predict([\"This movie is the best\"])"
   ]
  },
  {
   "cell_type": "code",
   "execution_count": null,
   "metadata": {},
   "outputs": [],
   "source": []
  }
 ],
 "metadata": {
  "kernelspec": {
   "display_name": "Python 3",
   "language": "python",
   "name": "python3"
  },
  "language_info": {
   "codemirror_mode": {
    "name": "ipython",
    "version": 3
   },
   "file_extension": ".py",
   "mimetype": "text/x-python",
   "name": "python",
   "nbconvert_exporter": "python",
   "pygments_lexer": "ipython3",
   "version": "3.7.7"
  }
 },
 "nbformat": 4,
 "nbformat_minor": 4
}
